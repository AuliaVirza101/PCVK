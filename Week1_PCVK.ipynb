{
  "nbformat": 4,
  "nbformat_minor": 0,
  "metadata": {
    "colab": {
      "provenance": [],
      "authorship_tag": "ABX9TyPotC4XEkcfvVtHjO7vOvAZ",
      "include_colab_link": true
    },
    "kernelspec": {
      "name": "python3",
      "display_name": "Python 3"
    },
    "language_info": {
      "name": "python"
    }
  },
  "cells": [
    {
      "cell_type": "markdown",
      "metadata": {
        "id": "view-in-github",
        "colab_type": "text"
      },
      "source": [
        "<a href=\"https://colab.research.google.com/github/AuliaVirza101/PCVK/blob/main/Week1_PCVK.ipynb\" target=\"_parent\"><img src=\"https://colab.research.google.com/assets/colab-badge.svg\" alt=\"Open In Colab\"/></a>"
      ]
    },
    {
      "cell_type": "code",
      "execution_count": 50,
      "metadata": {
        "id": "pljjv3oT8hQa",
        "outputId": "5f5d07de-2d33-4371-e9a8-f3ec488fc5a3",
        "colab": {
          "base_uri": "https://localhost:8080/",
          "height": 228
        }
      },
      "outputs": [
        {
          "output_type": "error",
          "ename": "IndexError",
          "evalue": "only integers, slices (`:`), ellipsis (`...`), numpy.newaxis (`None`) and integer or boolean arrays are valid indices",
          "traceback": [
            "\u001b[0;31m---------------------------------------------------------------------------\u001b[0m",
            "\u001b[0;31mIndexError\u001b[0m                                Traceback (most recent call last)",
            "\u001b[0;32m<ipython-input-50-2c423e01d7d0>\u001b[0m in \u001b[0;36m<cell line: 66>\u001b[0;34m()\u001b[0m\n\u001b[1;32m     65\u001b[0m \u001b[0mstart\u001b[0m \u001b[0;34m=\u001b[0m \u001b[0;34m(\u001b[0m\u001b[0mtinggi\u001b[0m\u001b[0;34m/\u001b[0m\u001b[0;36m2\u001b[0m\u001b[0;34m)\u001b[0m\u001b[0;34m\u001b[0m\u001b[0;34m\u001b[0m\u001b[0m\n\u001b[1;32m     66\u001b[0m \u001b[0;32mfor\u001b[0m \u001b[0mi\u001b[0m \u001b[0;32min\u001b[0m \u001b[0mrange\u001b[0m \u001b[0;34m(\u001b[0m\u001b[0;36m100\u001b[0m\u001b[0;34m,\u001b[0m\u001b[0;36m300\u001b[0m\u001b[0;34m)\u001b[0m\u001b[0;34m:\u001b[0m\u001b[0;34m\u001b[0m\u001b[0;34m\u001b[0m\u001b[0m\n\u001b[0;32m---> 67\u001b[0;31m     \u001b[0mimage_3\u001b[0m\u001b[0;34m[\u001b[0m\u001b[0mi\u001b[0m\u001b[0;34m,\u001b[0m\u001b[0mstart\u001b[0m\u001b[0;34m]\u001b[0m \u001b[0;34m=\u001b[0m \u001b[0;34m[\u001b[0m\u001b[0;36m255\u001b[0m\u001b[0;34m,\u001b[0m\u001b[0;36m0\u001b[0m\u001b[0;34m,\u001b[0m\u001b[0;36m0\u001b[0m\u001b[0;34m]\u001b[0m\u001b[0;34m\u001b[0m\u001b[0;34m\u001b[0m\u001b[0m\n\u001b[0m\u001b[1;32m     68\u001b[0m \u001b[0;34m\u001b[0m\u001b[0m\n\u001b[1;32m     69\u001b[0m \u001b[0mfinal_frame\u001b[0m \u001b[0;34m=\u001b[0m \u001b[0mcv\u001b[0m\u001b[0;34m.\u001b[0m\u001b[0mhconcat\u001b[0m \u001b[0;34m(\u001b[0m\u001b[0;34m(\u001b[0m\u001b[0mimage_2\u001b[0m\u001b[0;34m,\u001b[0m \u001b[0mimage_3\u001b[0m\u001b[0;34m)\u001b[0m\u001b[0;34m)\u001b[0m\u001b[0;34m\u001b[0m\u001b[0;34m\u001b[0m\u001b[0m\n",
            "\u001b[0;31mIndexError\u001b[0m: only integers, slices (`:`), ellipsis (`...`), numpy.newaxis (`None`) and integer or boolean arrays are valid indices"
          ]
        }
      ],
      "source": [
        "# step 1\n",
        "import numpy as np\n",
        "import pandas as pd\n",
        "import cv2 as cv\n",
        "from google.colab.patches import cv2_imshow\n",
        "from skimage import io\n",
        "from skimage import transform\n",
        "from PIL import Image\n",
        "import matplotlib.pylab as plt\n",
        "\n",
        "# Membuat list untuk menyimpan url dari beberapa image\n",
        "urls = [\"https://images.unsplash.com/photo-1569580388550-50907e7bad86?q=80&w=774&auto=format&fit=crop&ixlib=rb-4.0.3&ixid=M3wxMjA3fDB8MHxwaG90by1wYWdlfHx8fGVufDB8fHx8fA%3D%3D\",\n",
        "        \"https://images.unsplash.com/photo-1569580388550-50907e7bad86?q=80&w=774&auto=format&fit=crop&ixlib=rb-4.0.3&ixid=M3wxMjA3fDB8MHxwaG90by1wYWdlfHx8fGVufDB8fHx8fA%3D%3D\",\n",
        "        \"https://images.unsplash.com/photo-1569580388550-50907e7bad86?q=80&w=774&auto=format&fit=crop&ixlib=rb-4.0.3&ixid=M3wxMjA3fDB8MHxwaG90by1wYWdlfHx8fGVufDB8fHx8fA%3D%3D\"\n",
        "        ]\n",
        "\n",
        "\n",
        "# loop pada tiap url image, beberapa image dapat disimpan pada list\n",
        "for url in urls:\n",
        "  image = io.imread(url)\n",
        "  image = cv.resize(image, (0,0), fx=0.5, fy=0.5)\n",
        "  image_2 = cv.cvtColor (image, cv.COLOR_BGR2RGB)\n",
        "  final_frame = cv.hconcat ((image, image_2))\n",
        "#   cv2_imshow(final_frame)\n",
        "# print ('\\n')\n",
        "\n",
        "\n",
        "\n",
        "\n",
        "tinggi = image_2.shape[0]\n",
        "lebar = image_2.shape[1]\n",
        "\n",
        "# print(\"resolusi image : tinggi x lebar =\", tinggi, \"x\",lebar )\n",
        "# cv2_imshow(image_2)\n",
        "\n",
        "\n",
        "image_2 = cv.cvtColor(image, cv.COLOR_BGR2RGB)\n",
        "image_3 = cv.cvtColor(image, cv.COLOR_BGR2RGB)\n",
        "\n",
        "# Menggambar garis horizontal\n",
        "# for y in range (lebar):\n",
        "#   image_3[int((tinggi)/2),y] = [255,0,0]\n",
        "\n",
        "# final_frame = cv.hconcat ((image_2, image_3))\n",
        "# cv2_imshow(final_frame)\n",
        "\n",
        "# Menggambar garis vertikal\n",
        "# for x in range (tinggi):\n",
        "#   image_3[x,int((lebar)/2)] = [255,0,0]\n",
        "\n",
        "# menggambar garis vertikal tanpa looop\n",
        "# image_3[:,int((lebar)/2)] = [255,0,0]\n",
        "\n",
        "# menggambar garis diagonal\n",
        "#kiri ke kanan\n",
        "# for i in range(lebar):\n",
        "#     y = int(i * tinggi / lebar)\n",
        "#     image_3[y, i] = [255, 0, 0]\n",
        "# #kiri ke kanan\n",
        "# for i in range(lebar):\n",
        "#     y = int(i * tinggi / lebar)\n",
        "#     image_3[y,lebar -1 -i] = [255, 0, 0]\n",
        "\n",
        "# menggambar garis ditengah\n",
        "start = (tinggi/2)\n",
        "for i in range (100,300):\n",
        "    image_3[i,start] = [255,0,0]\n",
        "\n",
        "final_frame = cv.hconcat ((image_2, image_3))\n",
        "cv2_imshow(final_frame)\n"
      ]
    }
  ]
}